{
  "nbformat": 4,
  "nbformat_minor": 0,
  "metadata": {
    "colab": {
      "provenance": [],
      "gpuType": "A100"
    },
    "kernelspec": {
      "name": "python3",
      "display_name": "Python 3"
    },
    "language_info": {
      "name": "python"
    },
    "accelerator": "GPU"
  },
  "cells": [
    {
      "cell_type": "markdown",
      "source": [
        "In this tutorial, you will get introduced to PyTorch, a framework for building and training neural networks. PyTorch in a lot of ways behaves like the arrays you love from Numpy. These Numpy arrays, after all, are just tensors. PyTorch takes these tensors and makes it simple to move them to GPUs for the faster processing needed when training neural networks. It also provides a module that automatically calculates gradients (for backpropagation) and another module specifically for building neural networks.\n",
        "\n",
        "More specifically, you will first learn some PyTorch basics. And then, you will train a simple neural network on **Heart Failure Prediction**"
      ],
      "metadata": {
        "id": "c0UQ-UBRV_dl"
      }
    },
    {
      "cell_type": "code",
      "source": [
        "from google.colab import drive\n",
        "drive.mount('/content/drive')"
      ],
      "metadata": {
        "id": "rbrtudJcWgiy"
      },
      "execution_count": null,
      "outputs": []
    },
    {
      "cell_type": "code",
      "source": [
        "import os\n",
        "import sys\n",
        "\n",
        "DATA_PATH = \"/content/drive/MyDrive/NN-lib/data/\"\n",
        "\n",
        "sys.path.append('/content/drive/MyDrive/')"
      ],
      "metadata": {
        "id": "hZn8R3HNWi2v"
      },
      "execution_count": 3,
      "outputs": []
    },
    {
      "cell_type": "code",
      "source": [
        "!ls {DATA_PATH}"
      ],
      "metadata": {
        "colab": {
          "base_uri": "https://localhost:8080/"
        },
        "id": "eE3bMgn5Ws1s",
        "outputId": "b12f1e1f-67ab-41e0-d01e-72ef4231b3ef"
      },
      "execution_count": 4,
      "outputs": [
        {
          "output_type": "stream",
          "name": "stdout",
          "text": [
            "features_svmlight.train  features_svmlight.val\n"
          ]
        }
      ]
    },
    {
      "cell_type": "markdown",
      "source": [
        "# PyTorch basics\n",
        "It turns out neural network computations are just a bunch of linear algebra operations on tensors, a generalization of matrices. A vector is a 1-dimensional tensor, a matrix is a 2-dimensional tensor, an array with three indices is a 3-dimensional tensor (RGB color images for example). The fundamental data structure for neural networks are **tensors** and PyTorch (as well as pretty much every other deep learning framework) is built around tensors."
      ],
      "metadata": {
        "id": "dzF80kdIW2d2"
      }
    },
    {
      "cell_type": "markdown",
      "source": [
        "With the basics covered, it is time to explore how we can use PyTorch to build a simple neural network.\n",
        "\n",
        "\n"
      ],
      "metadata": {
        "id": "1Yr-7W6TXLAT"
      }
    },
    {
      "cell_type": "code",
      "source": [
        "import random\n",
        "import numpy as np\n",
        "import torch\n",
        "import torch.nn as nn"
      ],
      "metadata": {
        "id": "M2vUX70vXn9c"
      },
      "execution_count": 9,
      "outputs": []
    },
    {
      "cell_type": "code",
      "source": [
        "# set seed\n",
        "seed = 24\n",
        "random.seed(seed)\n",
        "np.random.seed(seed)\n",
        "torch.manual_seed(seed)\n",
        "os.environ[\"PYTHONHASHSEED\"] = str(seed)"
      ],
      "metadata": {
        "id": "mjZbwqNJXqeo"
      },
      "execution_count": 5,
      "outputs": []
    },
    {
      "cell_type": "markdown",
      "source": [
        "1.1 ReLU Implementation from scratch"
      ],
      "metadata": {
        "id": "jO51WP7EXuba"
      }
    },
    {
      "cell_type": "code",
      "source": [
        "#input\n",
        "# x: torch.Tensor\n",
        "#output\n",
        "# relu(x): torch.Tensor\n",
        "def relu(x):\n",
        "\n",
        "    \"\"\"\n",
        "    Implement a ReLU activation function from **scratch**.\n",
        "\n",
        "    REFERENCE: https://pytorch.org/docs/stable/generated/torch.nn.ReLU.html#torch.nn.ReLU\n",
        "    \"\"\"\n",
        "\n",
        "    return torch.maximum(x, torch.tensor(0.0))  # ReLU: max(0, x)"
      ],
      "metadata": {
        "id": "KCf29UxEXzs6"
      },
      "execution_count": 6,
      "outputs": []
    },
    {
      "cell_type": "markdown",
      "source": [
        "1.2 Sigmoid Implementation from scratch"
      ],
      "metadata": {
        "id": "Wdd6B6THYI5S"
      }
    },
    {
      "cell_type": "code",
      "source": [
        "#input\n",
        "# x: torch.Tensor\n",
        "#output\n",
        "# sigmoid(x): torch.Tensor\n",
        "def sigmoid(x):\n",
        "\n",
        "    \"\"\"\n",
        "    Implement a Sigmoid activation function from **scratch**.\n",
        "    \"\"\"\n",
        "    return 1 / (1 + torch.exp(-x))"
      ],
      "metadata": {
        "id": "7SmJN6h0YL7k"
      },
      "execution_count": 7,
      "outputs": []
    },
    {
      "cell_type": "markdown",
      "source": [
        "# Single layer network with sigmoid"
      ],
      "metadata": {
        "id": "dFscuAKaYeit"
      }
    },
    {
      "cell_type": "markdown",
      "source": [
        "Now, let us try to use the sigmoid function to calculate the output for a simple single layer network."
      ],
      "metadata": {
        "id": "oPCbvk4yYj-g"
      }
    },
    {
      "cell_type": "code",
      "source": [
        "# Generate some data\n",
        "# Features are 5 random normal variables\n",
        "features = torch.randn((1, 5))\n",
        "# weights for our data, random normal variables again\n",
        "weights = torch.randn_like(features)\n",
        "# and a bias term\n",
        "bias = torch.randn((1, 1))"
      ],
      "metadata": {
        "id": "Ki-siWpNYd2Y"
      },
      "execution_count": 9,
      "outputs": []
    },
    {
      "cell_type": "markdown",
      "source": [
        "Above I generated data we can use to get the output of our simple network. This is all just random for now, going forward we will start using normal data.\n",
        "\n",
        "features = torch.randn((1, 5)) creates a tensor with shape (1, 5), one row and five columns, that contains values randomly distributed according to the normal distribution with a mean of zero and standard deviation of one.\n",
        "\n",
        "weights = torch.randn_like(features) creates another tensor with the same shape as features, again containing values from a normal distribution.\n",
        "\n",
        "bias = torch.randn((1, 1)) creates a single value from a normal distribution."
      ],
      "metadata": {
        "id": "Mn3YbebNZtLe"
      }
    },
    {
      "cell_type": "markdown",
      "source": [
        "Use the generated data to calculate the output of this simple single layer network. Input features are features, weights are weights, and bias are bias. Use sigmoid as the activation function."
      ],
      "metadata": {
        "id": "-7SWShsUZyqJ"
      }
    },
    {
      "cell_type": "code",
      "source": [
        "#input\n",
        "# features: torch.Tensor\n",
        "# weights: torch.Tensor\n",
        "# bias: torch.Tensor\n",
        "#output\n",
        "# output of a sinlge layer network: torch.Tensor\n",
        "def single_layer_network(features, weights, bias):\n",
        "\n",
        "    \"\"\"\n",
        "    Calculate the output of this simple single layer network.\n",
        "    \"\"\"\n",
        "    linear_output = torch.matmul(features, weights.T) + bias  # Compute Wx + b\n",
        "    return sigmoid(linear_output)  # Apply sigmoid activation"
      ],
      "metadata": {
        "id": "fLEjtkKlZzwO"
      },
      "execution_count": 10,
      "outputs": []
    },
    {
      "cell_type": "markdown",
      "source": [
        "That is how you can calculate the output for a sinlge layer. The real power of this algorithm happens when you start stacking these individual units into layers and stacks of layers, into a network of neurons. The output of one layer of neurons becomes the input for the next layer. We will explore this in the next problem."
      ],
      "metadata": {
        "id": "Rlf70BnbaMi8"
      }
    },
    {
      "cell_type": "markdown",
      "source": [
        "# NN with PyTorch\n",
        "Deep learning networks tend to be massive with dozens or hundreds of layers, that is where the term \"deep\" comes from. You can build one of these deep networks using only weight matrices as we did in the previous problem, but in general it is very cumbersome and difficult to implement. PyTorch has a nice module nn that provides a nice way to efficiently build large neural networks.\n",
        "In this problem, you will train a neural network to do exactly the same task.  We have processed the data for you. The data is saved in SVMLight format under DATA_PATH."
      ],
      "metadata": {
        "id": "NXmhg7AhaPhh"
      }
    },
    {
      "cell_type": "markdown",
      "source": [
        "The SVMLight format is a sparse data representation format commonly used for machine learning tasks, particularly for support vector machines (SVMs). It stores data as a set of feature-value pairs, which is suitable for handling sparse datasets (where many feature values are zero)."
      ],
      "metadata": {
        "id": "bjGkQMwganzO"
      }
    },
    {
      "cell_type": "code",
      "source": [
        "!ls {DATA_PATH}"
      ],
      "metadata": {
        "id": "VQviT_e0aqVG"
      },
      "execution_count": null,
      "outputs": []
    },
    {
      "cell_type": "markdown",
      "source": [
        "#  Load the Data"
      ],
      "metadata": {
        "id": "Zq5dCKsdat0I"
      }
    },
    {
      "cell_type": "code",
      "source": [
        "sys.path.append('/content/drive/MyDrive/NN-lib/')"
      ],
      "metadata": {
        "id": "SE8KYp2Jayso"
      },
      "execution_count": 10,
      "outputs": []
    },
    {
      "cell_type": "code",
      "source": [
        "import utils\n",
        "\n",
        "\n",
        "\"\"\" load SVMLight data \"\"\"\n",
        "# training data\n",
        "X_train, Y_train = utils.get_data_from_svmlight(DATA_PATH + \"features_svmlight.train\")\n",
        "# validation data\n",
        "X_val, Y_val = utils.get_data_from_svmlight(DATA_PATH + \"features_svmlight.val\")\n",
        "\n",
        "\"\"\" convert to torch.tensor \"\"\"\n",
        "X_train = torch.from_numpy(X_train.toarray()).type(torch.float)\n",
        "Y_train = torch.from_numpy(Y_train).type(torch.float)\n",
        "X_val = torch.from_numpy(X_val.toarray()).type(torch.float)\n",
        "Y_val = torch.from_numpy(Y_val).type(torch.float)\n",
        "\n",
        "print(\"X_train shape:\", X_train.shape)\n",
        "print(\"Y_train shape:\", Y_train.shape)\n",
        "print(\"X_val shape:\", X_val.shape)\n",
        "print(\"Y_val shape:\", Y_val.shape)"
      ],
      "metadata": {
        "colab": {
          "base_uri": "https://localhost:8080/"
        },
        "id": "bCUQV1UZa44u",
        "outputId": "82aa49b0-dc06-4736-a058-c4778437ad5b"
      },
      "execution_count": 11,
      "outputs": [
        {
          "output_type": "stream",
          "name": "stdout",
          "text": [
            "X_train shape: torch.Size([2485, 1473])\n",
            "Y_train shape: torch.Size([2485])\n",
            "X_val shape: torch.Size([604, 1473])\n",
            "Y_val shape: torch.Size([604])\n"
          ]
        }
      ]
    },
    {
      "cell_type": "code",
      "source": [
        "X_train"
      ],
      "metadata": {
        "colab": {
          "base_uri": "https://localhost:8080/"
        },
        "id": "LBdeoaLTAGi9",
        "outputId": "b1e5eea6-f065-4f79-dc70-69e4cd11b36b"
      },
      "execution_count": 12,
      "outputs": [
        {
          "output_type": "execute_result",
          "data": {
            "text/plain": [
              "tensor([[0., 0., 0.,  ..., 0., 0., 0.],\n",
              "        [0., 0., 0.,  ..., 0., 0., 0.],\n",
              "        [0., 0., 0.,  ..., 0., 0., 0.],\n",
              "        ...,\n",
              "        [0., 0., 0.,  ..., 0., 0., 0.],\n",
              "        [0., 0., 0.,  ..., 0., 0., 0.],\n",
              "        [0., 0., 0.,  ..., 0., 0., 0.]])"
            ]
          },
          "metadata": {},
          "execution_count": 12
        }
      ]
    },
    {
      "cell_type": "markdown",
      "source": [
        "# What's in features_svmlight.train?"
      ],
      "metadata": {
        "id": "cDz-Aa7BHbqP"
      }
    },
    {
      "cell_type": "markdown",
      "source": [
        "This file is likely in SVMlight format, a compact format for storing labeled sparse feature vectors.\n",
        "\n",
        "Example lines:\n",
        "1 2:0.7 4:1.0 100:0.003\n",
        "-1 3:0.9 55:1.0\n",
        "The first number (1 or -1) is the label (Y)\n",
        "\n",
        "\n",
        "The rest are feature:value pairs indicating non-zero features"
      ],
      "metadata": {
        "id": "IWrvCCw7_elv"
      }
    },
    {
      "cell_type": "markdown",
      "source": [
        "Now, we will create a TensorDataset to wrap those tensors."
      ],
      "metadata": {
        "id": "uZAUgJKmbEn1"
      }
    },
    {
      "cell_type": "code",
      "source": [
        "from torch.utils.data import TensorDataset\n",
        "\n",
        "train_dataset = TensorDataset(X_train, Y_train)\n",
        "val_dataset = TensorDataset(X_val, Y_val)\n",
        "\n",
        "print(\"Size of train_dataset:\", len(train_dataset))\n",
        "print(\"Size of val_dataset:\", len(val_dataset))\n",
        "\n",
        "#If you index train_dataset now, you will get a (data, label) tuple\n",
        "print(train_dataset[0])\n",
        "print([_t.shape for _t in train_dataset[0]])"
      ],
      "metadata": {
        "id": "YXYD08H0bR_b",
        "colab": {
          "base_uri": "https://localhost:8080/"
        },
        "outputId": "6ea7bef4-eb10-497e-9ea1-84f4e654e438"
      },
      "execution_count": 13,
      "outputs": [
        {
          "output_type": "stream",
          "name": "stdout",
          "text": [
            "Size of train_dataset: 2485\n",
            "Size of val_dataset: 604\n",
            "(tensor([0., 0., 0.,  ..., 0., 0., 0.]), tensor(0.))\n",
            "[torch.Size([1473]), torch.Size([])]\n"
          ]
        }
      ]
    },
    {
      "cell_type": "markdown",
      "source": [
        "Next, we will load the dataset into a dataloader so that we can use it to loop through the dataset for training and validating."
      ],
      "metadata": {
        "id": "xiqNQSIQbgXD"
      }
    },
    {
      "cell_type": "code",
      "source": [
        "from torch.utils.data import DataLoader\n",
        "\n",
        "# how many samples per batch to load\n",
        "batch_size = 32\n",
        "\n",
        "# prepare dataloaders\n",
        "train_loader = DataLoader(train_dataset, batch_size=batch_size, shuffle=True)\n",
        "val_loader = DataLoader(val_dataset, batch_size=batch_size)\n",
        "\n",
        "print(\"# of train batches:\", len(train_loader))\n",
        "print(\"# of val batchse:\", len(val_loader))"
      ],
      "metadata": {
        "id": "bSgBa5JfbmIh",
        "colab": {
          "base_uri": "https://localhost:8080/"
        },
        "outputId": "c89a1114-4a90-4af8-e2b2-d955bd1999cb"
      },
      "execution_count": 14,
      "outputs": [
        {
          "output_type": "stream",
          "name": "stdout",
          "text": [
            "# of train batches: 78\n",
            "# of val batchse: 19\n"
          ]
        }
      ]
    },
    {
      "cell_type": "markdown",
      "source": [
        "The batch size is the number of images we get in one iteration from the data loader and pass through our network, often called a batch."
      ],
      "metadata": {
        "id": "0T6jBD3Eb2Hq"
      }
    },
    {
      "cell_type": "code",
      "source": [
        "train_iter = iter(train_loader)\n",
        "x, y = next(train_iter)\n",
        "\n",
        "print('Shape of a batch x:', x.shape)\n",
        "print('Shape of a batch y:', y.shape)"
      ],
      "metadata": {
        "id": "T61rUTAvcbL-",
        "colab": {
          "base_uri": "https://localhost:8080/"
        },
        "outputId": "e3a14f35-493c-46b7-a9a9-2e3a69ade9d8"
      },
      "execution_count": 15,
      "outputs": [
        {
          "output_type": "stream",
          "name": "stdout",
          "text": [
            "Shape of a batch x: torch.Size([32, 1473])\n",
            "Shape of a batch y: torch.Size([32])\n"
          ]
        }
      ]
    },
    {
      "cell_type": "markdown",
      "source": [
        "# Build the Model"
      ],
      "metadata": {
        "id": "yHjIDCJxclQQ"
      }
    },
    {
      "cell_type": "markdown",
      "source": [
        "Now, let us build a real NN model. For each patient, the NN model will take an input tensor of 1473-dim, and produce an output tensor of 1-dim (0 for normal, 1 for heart failure). The detailed model architecture is shown in the table below.\n",
        "![Screenshot 2025-05-05 at 1.08.39 PM.png](data:image/png;base64,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)\n"
      ],
      "metadata": {
        "id": "SU3olfPH6bI-"
      }
    },
    {
      "cell_type": "code",
      "source": [
        "\"\"\"\n",
        "Build the MLP shown above.\n",
        "\"\"\"\n",
        "\n",
        "class Net(nn.Module): #This defines your model class by subclassing torch.nn.Module.\n",
        "    def __init__(self):\n",
        "        super(Net, self).__init__() #super() ensures that the base class is initialized.\n",
        "\n",
        "        self.fc1 = None\n",
        "        self.fc2 = None\n",
        "        self.dropout = None\n",
        "        self.fc3 = None\n",
        "\n",
        "        # First fully connected layer: input features = 1473, output = 64 units\n",
        "        self.fc1 = nn.Linear(1473, 64)\n",
        "        #Second hidden layer: 64 → 32 units\n",
        "        self.fc2 = nn.Linear(64, 32)\n",
        "        # Dropout regularization: randomly zeroes 50% of features during training\n",
        "        self.dropout = nn.Dropout(0.5)\n",
        "        # Output layer: 1 neuron for binary classification\n",
        "        self.fc3 = nn.Linear(32,1)\n",
        "\n",
        "    def forward(self, x):\n",
        "\n",
        "        # Pass input through the layers with the activation functions\n",
        "        x = torch.relu(self.fc1(x))      # Apply ReLU after the first layer\n",
        "        x = torch.relu(self.fc2(x))      # Apply ReLU after the second layer\n",
        "        x = self.dropout(x)              # Apply dropout\n",
        "        x = torch.sigmoid(self.fc3(x))   # Apply Sigmoid to the output layer\n",
        "\n",
        "        return x\n",
        "\n",
        "# initialize the NN\n",
        "model = Net()\n",
        "print(model)"
      ],
      "metadata": {
        "id": "rUGemmL5ck-8",
        "colab": {
          "base_uri": "https://localhost:8080/"
        },
        "outputId": "570bd73c-512b-44be-b02a-cf6038528933"
      },
      "execution_count": 16,
      "outputs": [
        {
          "output_type": "stream",
          "name": "stdout",
          "text": [
            "Net(\n",
            "  (fc1): Linear(in_features=1473, out_features=64, bias=True)\n",
            "  (fc2): Linear(in_features=64, out_features=32, bias=True)\n",
            "  (dropout): Dropout(p=0.5, inplace=False)\n",
            "  (fc3): Linear(in_features=32, out_features=1, bias=True)\n",
            ")\n"
          ]
        }
      ]
    },
    {
      "cell_type": "markdown",
      "source": [
        "ReLU is used for hidden layers — a common non-linear activation.\n",
        "\n",
        "Dropout helps prevent overfitting.\n",
        "\n",
        "Sigmoid squashes output between 0 and 1 — suitable for binary classification."
      ],
      "metadata": {
        "id": "JWU2JA348ZBL"
      }
    },
    {
      "cell_type": "markdown",
      "source": [
        "Now that we have a network, let's see what happens when we pass in an image."
      ],
      "metadata": {
        "id": "Zoaxe-IDBq1J"
      }
    },
    {
      "cell_type": "code",
      "source": [
        "# Grab some data\n",
        "train_iter = iter(train_loader)\n",
        "x, y = next(train_iter)\n",
        "\n",
        "# Forward pass through the network\n",
        "output = model.forward(x)\n",
        "\n",
        "print('Input x shape:', x.shape)\n",
        "print('Output shape: ', output.shape)"
      ],
      "metadata": {
        "colab": {
          "base_uri": "https://localhost:8080/"
        },
        "id": "CRpNXWQQBtNS",
        "outputId": "34769e05-7c9c-4c4d-b66e-29d3b417ae5c"
      },
      "execution_count": 17,
      "outputs": [
        {
          "output_type": "stream",
          "name": "stdout",
          "text": [
            "Input x shape: torch.Size([32, 1473])\n",
            "Output shape:  torch.Size([32, 1])\n"
          ]
        }
      ]
    },
    {
      "cell_type": "markdown",
      "source": [
        "# Train the Network\n",
        "In this step, you will train the NN model.\n",
        "\n",
        "Neural networks with non-linear activations work like universal function approximators. There is some function that maps your input to the output. The power of neural networks is that we can train them to approximate this function, and basically any function given enough data and compute time."
      ],
      "metadata": {
        "id": "jqntfms7CC1F"
      }
    },
    {
      "cell_type": "code",
      "source": [
        "model = Net()"
      ],
      "metadata": {
        "id": "QHPgmA8aCoQ8"
      },
      "execution_count": 19,
      "outputs": []
    },
    {
      "cell_type": "markdown",
      "source": [
        "# Losses in PyTorch.\n",
        "\n",
        "Let us start by seeing how we calculate the loss with PyTorch. Through the nn.module, PyTorch provides losses such as the binary cross-entropy loss (nn.BCELoss). You will usually see the loss assigned to criterion.\n",
        "\n",
        "As noted in the last part, with a classification problem such as Heart Failure Prediction, we are using the Sigmoid function to predict heart failure probability. With a Sigmoid output, you want to use binary cross-entropy as the loss. To actually calculate the loss, you first define the criterion then pass in the output of your network and the correct labels."
      ],
      "metadata": {
        "id": "m259T8WTCepU"
      }
    },
    {
      "cell_type": "code",
      "source": [
        "# Define the loss (BCELoss), assign it to `criterion`.\n",
        "\"\"\"\n",
        "REFERENCE: https://pytorch.org/docs/stable/generated/torch.nn.BCELoss.html#torch.nn.BCELoss\n",
        "\"\"\"\n",
        "\n",
        "criterion = None\n",
        "criterion = nn.BCELoss()"
      ],
      "metadata": {
        "id": "uYT4qisiCyXU"
      },
      "execution_count": 18,
      "outputs": []
    },
    {
      "cell_type": "markdown",
      "source": [
        "# Optimizer in PyTorch.\n",
        "\n",
        "Optimizer can update the weights with the gradients. We can get these from PyTorch's optim package. For example we can use stochastic gradient descent with optim.SGD."
      ],
      "metadata": {
        "id": "svxg3zlwFfHC"
      }
    },
    {
      "cell_type": "code",
      "source": [
        "\"\"\"\n",
        "Define the optimizer (SGD) with learning rate 0.01, assign it to `optimizer`.\n",
        "\n",
        "REFERENCE: https://pytorch.org/docs/stable/optim.html\n",
        "\"\"\"\n",
        "\n",
        "optimizer = None\n",
        "optimizer = torch.optim.SGD(model.parameters(), lr=0.01)"
      ],
      "metadata": {
        "id": "akGnnGfiFn3t"
      },
      "execution_count": 19,
      "outputs": []
    },
    {
      "cell_type": "markdown",
      "source": [
        "Now let us train the NN model we previously created.\n",
        "\n",
        "First, let us implement the evaluate function that will be called to evaluate the model performance when training.\n",
        "\n",
        "Note: For prediction, probability > 0.5 is considered class 1 otherwise class 0"
      ],
      "metadata": {
        "id": "GFSc6cBhF2SL"
      }
    },
    {
      "cell_type": "code",
      "source": [
        "from sklearn.metrics import *\n",
        "\n",
        "#input: Y_score,Y_pred,Y_true\n",
        "#output: accuracy, auc, precision, recall, f1-score\n",
        "def classification_metrics(Y_score, Y_pred, Y_true):\n",
        "    acc, auc, precision, recall, f1score = accuracy_score(Y_true, Y_pred), \\\n",
        "                                           roc_auc_score(Y_true, Y_score), \\\n",
        "                                           precision_score(Y_true, Y_pred), \\\n",
        "                                           recall_score(Y_true, Y_pred), \\\n",
        "                                           f1_score(Y_true, Y_pred)\n",
        "    return acc, auc, precision, recall, f1score\n",
        "\n",
        "\n",
        "\n",
        "#input: model, loader\n",
        "def evaluate(model, loader):\n",
        "    model.eval()\n",
        "    all_y_true = torch.LongTensor()\n",
        "    all_y_pred = torch.LongTensor()\n",
        "    all_y_score = torch.FloatTensor()\n",
        "    for x, y in loader:\n",
        "        y_hat = model(x)\n",
        "        # convert shape from [batch size, 1] to [batch size]\n",
        "        y_hat = y_hat.view(y_hat.shape[0])\n",
        "        \"\"\"\n",
        "        TODO: obtain the predicted class (0, 1) by comparing y_hat against 0.5,\n",
        "        assign the predicted class to y_pred.\n",
        "        \"\"\"\n",
        "        y_pred = None\n",
        "        # your code here\n",
        "        y_pred = (y_hat > 0.5).long()  # If the predicted probability > 0.5, class 1, else class 0\n",
        "\n",
        "        all_y_true = torch.cat((all_y_true, y.to('cpu').long()), dim=0) # True labels\n",
        "        all_y_pred = torch.cat((all_y_pred,  y_pred.to('cpu').long()), dim=0) # Predicted classes\n",
        "        all_y_score = torch.cat((all_y_score,  y_hat.to('cpu')), dim=0) # Predicted probabilities\n",
        "\n",
        "    acc, auc, precision, recall, f1 = classification_metrics(all_y_score.detach().numpy(),\n",
        "                                                             all_y_pred.detach().numpy(),\n",
        "                                                             all_y_true.detach().numpy())\n",
        "    print(f\"acc: {acc:.3f}, auc: {auc:.3f}, precision: {precision:.3f}, recall: {recall:.3f}, f1: {f1:.3f}\")\n",
        "    return acc, auc, precision, recall, f1"
      ],
      "metadata": {
        "id": "5HYYx1Y4GMFr"
      },
      "execution_count": 20,
      "outputs": []
    },
    {
      "cell_type": "code",
      "source": [
        "print(\"model perfomance before training:\")\n",
        "# initialized the model\n",
        "# model = Net()\n",
        "auc_train_init = evaluate(model, train_loader)[1]\n",
        "auc_val_init = evaluate(model, val_loader)[1]"
      ],
      "metadata": {
        "colab": {
          "base_uri": "https://localhost:8080/"
        },
        "id": "zmDPIi8PGQ7i",
        "outputId": "27850152-4535-4e13-92b5-310b11548bd9"
      },
      "execution_count": 21,
      "outputs": [
        {
          "output_type": "stream",
          "name": "stdout",
          "text": [
            "model perfomance before training:\n",
            "acc: 0.583, auc: 0.475, precision: 0.583, recall: 1.000, f1: 0.737\n",
            "acc: 0.608, auc: 0.439, precision: 0.608, recall: 1.000, f1: 0.756\n"
          ]
        }
      ]
    },
    {
      "cell_type": "markdown",
      "source": [
        "# To train the model, you should follow the following step:\n",
        "\n",
        "Clear the gradients of all optimized variables\n",
        "Forward pass: compute predicted outputs by passing inputs to the model\n",
        "Calculate the loss\n",
        "Backward pass: compute gradient of the loss with respect to model parameters\n",
        "Perform a single optimization step (parameter update)\n",
        "Update average training loss"
      ],
      "metadata": {
        "id": "X7zVNQ0DGaW4"
      }
    },
    {
      "cell_type": "code",
      "source": [
        "\"\"\"\n",
        "This code trains a model for n_epochs = 100 iterations,\n",
        " using mini-batch gradient descent and tracks the training loss over time.\n",
        "\"\"\"\n",
        "# number of epochs to train the model\n",
        "n_epochs = 100\n",
        "\n",
        "train_loss_arr = [] #This list stores the average training loss every 20 epochs,\n",
        "                        # so you can visualize or analyze training progress.\n",
        "for epoch in range(n_epochs): # Epoch loop\n",
        "\n",
        "    # prep model for training\n",
        "    model.train()\n",
        "\n",
        "    train_loss = 0\n",
        "    for x, y in train_loader: # Batch loop\n",
        "        \"\"\" Step 1. clear gradients \"\"\"\n",
        "        optimizer.zero_grad()\n",
        "        \"\"\"\n",
        "        Step 2. perform forward pass using `model`, save the output to y_hat;\n",
        "        Step 3. calculate the loss using `criterion`, save the output to loss.\n",
        "        \"\"\"\n",
        "        y_hat = None\n",
        "        loss = None\n",
        "        # Step 2. perform forward pass using `model`, save the output to y_hat;\n",
        "        y_hat = model(x)\n",
        "        # Ensure y_hat has the same shape as y (flatten the output)\n",
        "        y_hat = y_hat.view(-1)  # or y_hat.squeeze(1)\n",
        "\n",
        "        # Step 3. calculate the loss using `criterion`, save the output to loss.\n",
        "        loss = criterion(y_hat, y)\n",
        "\n",
        "        \"\"\" Step 4. backward pass \"\"\"\n",
        "        loss.backward() #computes gradients of loss w.r.t. all model parameters\n",
        "        \"\"\" Step 5. optimization \"\"\"\n",
        "        optimizer.step() # Update the weights\n",
        "        \"\"\" Step 6. record loss \"\"\"\n",
        "        train_loss += loss.item()\n",
        "\n",
        "    train_loss = train_loss / len(train_loader)\n",
        "    if epoch % 20 == 0:\n",
        "        train_loss_arr.append(np.mean(train_loss))\n",
        "        print('Epoch: {} \\tTraining Loss: {:.6f}'.format(epoch, train_loss))\n",
        "        evaluate(model, val_loader)"
      ],
      "metadata": {
        "colab": {
          "base_uri": "https://localhost:8080/"
        },
        "id": "-AD-5oDHGZp7",
        "outputId": "8443bfdd-325c-4d1d-a256-d11cec77fc7e"
      },
      "execution_count": 24,
      "outputs": [
        {
          "output_type": "stream",
          "name": "stdout",
          "text": [
            "Epoch: 0 \tTraining Loss: 0.687308\n",
            "acc: 0.608, auc: 0.542, precision: 0.608, recall: 1.000, f1: 0.756\n",
            "Epoch: 20 \tTraining Loss: 0.670824\n",
            "acc: 0.608, auc: 0.695, precision: 0.608, recall: 1.000, f1: 0.756\n",
            "Epoch: 40 \tTraining Loss: 0.623104\n",
            "acc: 0.677, auc: 0.714, precision: 0.654, recall: 0.997, f1: 0.790\n",
            "Epoch: 60 \tTraining Loss: 0.553853\n",
            "acc: 0.728, auc: 0.733, precision: 0.721, recall: 0.902, f1: 0.801\n",
            "Epoch: 80 \tTraining Loss: 0.506929\n",
            "acc: 0.717, auc: 0.742, precision: 0.723, recall: 0.866, f1: 0.788\n"
          ]
        }
      ]
    },
    {
      "cell_type": "markdown",
      "source": [
        "# What Is an Epoch?\n",
        "An epoch is one full pass through the entire training dataset.\n",
        "\n",
        "If you have 1,000 training examples, then:\n",
        "\n",
        "1 epoch = model sees all 1,000 examples once\n",
        "\n",
        "5 epochs = model sees all examples 5 times (through shuffling each time)\n",
        "\n",
        "# Why More Than One Epoch?\n",
        "In a single pass, the model often doesn’t learn enough.\n",
        "\n",
        "Training for multiple epochs allows the model to gradually minimize the loss and improve accuracy.\n",
        "\n",
        "But too many epochs can lead to overfitting — the model learns the training data too well and performs poorly on unseen data."
      ],
      "metadata": {
        "id": "ZCzE9ZoIHhJl"
      }
    },
    {
      "cell_type": "markdown",
      "source": [
        "# What Is Batch Size?\n",
        "Batch size is the number of samples the model processes **before updating its weights**.\n",
        "\n",
        "So if:\n",
        "\n",
        "Dataset has 1,000 samples\n",
        "\n",
        "batch_size = 100\n",
        "\n",
        "Then 1 epoch = 10 batches"
      ],
      "metadata": {
        "id": "PNeeETSFH-HP"
      }
    },
    {
      "cell_type": "markdown",
      "source": [
        "# What Happens in Each Batch?\n",
        "The model does a forward pass on 100 samples\n",
        "\n",
        "Calculates the loss\n",
        "\n",
        "Runs backpropagation (computes gradients)\n",
        "\n",
        "Updates weights\n",
        "\n",
        "This process repeats until the model has processed the full dataset (1 epoch), and then continues for the next epoch.\n",
        "\n"
      ],
      "metadata": {
        "id": "PsAd6yg-IcMP"
      }
    },
    {
      "cell_type": "markdown",
      "source": [
        "# Quick Analogy\n",
        "Think of a full training dataset as a textbook:\n",
        "\n",
        "Epoch: Reading the entire book\n",
        "\n",
        "Batch: Reading a few pages at a time (before taking notes or updating your understanding)"
      ],
      "metadata": {
        "id": "yLcgitFIIrSG"
      }
    },
    {
      "cell_type": "code",
      "source": [
        "\n"
      ],
      "metadata": {
        "id": "YocyYlbqI55D"
      },
      "execution_count": null,
      "outputs": []
    }
  ]
}